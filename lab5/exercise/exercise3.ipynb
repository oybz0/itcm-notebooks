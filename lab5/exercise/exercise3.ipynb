{
 "cells": [
  {
   "cell_type": "markdown",
   "metadata": {},
   "source": [
    "# Lab 5\n",
    "\n",
    "1. 提交作業之前，建議可以先點選上方工具列的**Kernel**，再選擇**Restart & Run All**，檢查一下是否程式跑起來都沒有問題，最後記得儲存。\n",
    "2. 請先填上下方的姓名(name)及學號(stduent_id)再開始作答，例如：\n",
    "```python\n",
    "name = \"我的名字\"\n",
    "student_id= \"B06201000\"\n",
    "```\n",
    "3. 演算法的實作可以參考[lab-5](https://yuanyuyuan.github.io/itcm/lab-5.html), 有任何問題歡迎找助教詢問。\n",
    "4. **Deadline: 12/11(Wed.)**"
   ]
  },
  {
   "cell_type": "code",
   "execution_count": 1,
   "metadata": {},
   "outputs": [],
   "source": [
    "name = \"歐陽秉志\"\n",
    "student_id = \"B05201012\""
   ]
  },
  {
   "cell_type": "markdown",
   "metadata": {},
   "source": [
    "---"
   ]
  },
  {
   "cell_type": "markdown",
   "metadata": {
    "deletable": false,
    "editable": false,
    "nbgrader": {
     "cell_type": "markdown",
     "checksum": "8caa51313bc7dfbde7a7a4c46f4c8754",
     "grade": false,
     "grade_id": "cell-8c0898d088432222",
     "locked": true,
     "points": 12,
     "schema_version": 3,
     "solution": false,
     "task": true
    }
   },
   "source": [
    "# Exercise 3\n",
    "---\n",
    "### Analyse the convergence properties of the Jacobi and Gauss-Seidel methods for the solution of a linear system whose matrix is\n",
    "### $$\\left[\\begin{matrix}\n",
    "    \\alpha &&0 &&1\\\\\n",
    "    0 &&\\alpha &&0\\\\\n",
    "    1 &&0 &&\\alpha\n",
    "    \\end{matrix}\\right],\n",
    "    \\quad \\quad\n",
    "    \\alpha \\in \\mathbb{R}.$$"
   ]
  },
  {
   "cell_type": "markdown",
   "metadata": {},
   "source": [
    "By lecture slide: it hold for $\\alpha\\neq 0$,\n",
    "Let  $D=\\left[\\begin{matrix}\\alpha &&0 &&0\\\\0 &&\\alpha &&0\\\\0 &&0 &&\\alpha\\end{matrix}\\right], L=\\left[\\begin{matrix} 0 &&0 &&0\\\\0 &&0 &&0\\\\1 &&0 &&0\\end{matrix}\\right], U=\\left[\\begin{matrix}0 &&0 &&1\\\\0 &&0 &&0\\\\0 &&0 &&0\\end{matrix}\\right]$,\n",
    "\n",
    "then for Jacobi methods, it converge for $\\rho(G)<1$ where $G=-D^{-1}(L+U)$, then $\\rho(G)=\\frac{1}{\\alpha^2}$ ie. $\\alpha>1$\n",
    "\n",
    "for Gauss-Seidel metohs, it converge for $\\rho(G)<1$ where $G=-(L+D)^{-1}U$, then $\\rho(G)=\\frac{1}{\\alpha^2}$ ie. $\\alpha>1$\n",
    "   "
   ]
  }
 ],
 "metadata": {
  "kernelspec": {
   "display_name": "Python 3",
   "language": "python",
   "name": "python3"
  },
  "language_info": {
   "codemirror_mode": {
    "name": "ipython",
    "version": 3
   },
   "file_extension": ".py",
   "mimetype": "text/x-python",
   "name": "python",
   "nbconvert_exporter": "python",
   "pygments_lexer": "ipython3",
   "version": "3.7.3"
  }
 },
 "nbformat": 4,
 "nbformat_minor": 2
}
