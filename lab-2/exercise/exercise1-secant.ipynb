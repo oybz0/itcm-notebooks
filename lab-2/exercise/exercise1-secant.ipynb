{
 "cells": [
  {
   "cell_type": "markdown",
   "metadata": {},
   "source": [
    "# Lab 2\n",
    "\n",
    "1. 提交作業之前，建議可以先點選上方工具列的**Kernel**，再選擇**Restart & Run All**，檢查一下是否程式跑起來都沒有問題，最後記得儲存。\n",
    "2. 請先填上下方的姓名(name)及學號(stduent_id)再開始作答，例如：\n",
    "```python\n",
    "name = \"我的名字\"\n",
    "student_id= \"B06201000\"\n",
    "```\n",
    "3. 四個求根演算法的實作可以參考[lab-2](https://yuanyuyuan.github.io/itcm/lab-2.html)，裡面有教學影片也有範例程式可以套用。\n",
    "4. **Deadline: 10/9(Wed.)**"
   ]
  },
  {
   "cell_type": "code",
   "execution_count": 1,
   "metadata": {},
   "outputs": [],
   "source": [
    "name = \"歐陽秉志\"\n",
    "student_id = \"B05201012\""
   ]
  },
  {
   "cell_type": "markdown",
   "metadata": {},
   "source": [
    "---"
   ]
  },
  {
   "cell_type": "markdown",
   "metadata": {
    "deletable": false,
    "editable": false,
    "nbgrader": {
     "cell_type": "markdown",
     "checksum": "d22655d12311e41ce452e70e9e3c3638",
     "grade": false,
     "grade_id": "cell-c2d0430879c2f70e",
     "locked": true,
     "schema_version": 3,
     "solution": false,
     "task": false
    }
   },
   "source": [
    "# Exercise 1 - Secant"
   ]
  },
  {
   "cell_type": "markdown",
   "metadata": {
    "deletable": false,
    "editable": false,
    "nbgrader": {
     "cell_type": "markdown",
     "checksum": "ba1e18a9e06a63b22ecd6f70144dea41",
     "grade": false,
     "grade_id": "cell-33f8ce765657fbdb",
     "locked": true,
     "schema_version": 3,
     "solution": false,
     "task": false
    }
   },
   "source": [
    "### Use the secant method to find roots of\n",
    "### $$f(x)=cosh(x)+cos(x)-c \\text{, for } c=1, 2, 3,$$\n",
    "\n",
    "---\n",
    "\n",
    "### Import libraries"
   ]
  },
  {
   "cell_type": "code",
   "execution_count": 2,
   "metadata": {
    "deletable": false,
    "editable": false,
    "nbgrader": {
     "cell_type": "code",
     "checksum": "155525b1c29b7a501135130df0323cda",
     "grade": false,
     "grade_id": "cell-f62cddd608acfbcd",
     "locked": true,
     "schema_version": 3,
     "solution": false,
     "task": false
    }
   },
   "outputs": [],
   "source": [
    "import matplotlib.pyplot as plt\n",
    "import numpy as np"
   ]
  },
  {
   "cell_type": "markdown",
   "metadata": {
    "deletable": false,
    "editable": false,
    "nbgrader": {
     "cell_type": "markdown",
     "checksum": "ffbec74c84f79c06c0dddecd0c3f657f",
     "grade": false,
     "grade_id": "cell-63786d9f953bf2de",
     "locked": true,
     "schema_version": 3,
     "solution": false,
     "task": false
    }
   },
   "source": [
    "### 1. Define a function $g(c)(x)=f(x)=cosh(x)+cos(x)-c$ with parameter $c=1, 2, 3$."
   ]
  },
  {
   "cell_type": "code",
   "execution_count": 3,
   "metadata": {
    "deletable": false,
    "nbgrader": {
     "cell_type": "code",
     "checksum": "0b22f9a297d3b22ea66212ef7850a9ae",
     "grade": false,
     "grade_id": "cell-d3866c0338b6c08a",
     "locked": false,
     "schema_version": 3,
     "solution": true,
     "task": false
    }
   },
   "outputs": [],
   "source": [
    "def g(c):\n",
    "    assert c == 1 or c == 2 or c == 3\n",
    "    def f(x):\n",
    "        # Hint: return ...\n",
    "        # ===== 請實做程式 =====\n",
    "        return np.cosh(x) + np.cos(x) - c\n",
    "        # ====================\n",
    "    return f"
   ]
  },
  {
   "cell_type": "markdown",
   "metadata": {
    "deletable": false,
    "editable": false,
    "nbgrader": {
     "cell_type": "markdown",
     "checksum": "9d099b6968cc9c23c7777b55c17f50b1",
     "grade": false,
     "grade_id": "cell-0ca3d0b651f434d3",
     "locked": true,
     "schema_version": 3,
     "solution": false,
     "task": false
    }
   },
   "source": [
    "Pass the following assertion."
   ]
  },
  {
   "cell_type": "code",
   "execution_count": 4,
   "metadata": {
    "deletable": false,
    "editable": false,
    "nbgrader": {
     "cell_type": "code",
     "checksum": "1add84e8e34c2d913538ebc03188ad2f",
     "grade": true,
     "grade_id": "cell-b59c94b754b1fc9e",
     "locked": true,
     "points": 1,
     "schema_version": 3,
     "solution": false,
     "task": false
    }
   },
   "outputs": [],
   "source": [
    "assert g(1)(0) == np.cosh(0) + np.cos(0) - 1"
   ]
  },
  {
   "cell_type": "markdown",
   "metadata": {
    "deletable": false,
    "editable": false,
    "nbgrader": {
     "cell_type": "markdown",
     "checksum": "b34ded7e5b585e05adae705456c2ac72",
     "grade": false,
     "grade_id": "cell-006b9dd619c91bed",
     "locked": true,
     "schema_version": 3,
     "solution": false,
     "task": false
    }
   },
   "source": [
    "### 2. Implement the algorithm"
   ]
  },
  {
   "cell_type": "code",
   "execution_count": 5,
   "metadata": {},
   "outputs": [],
   "source": [
    "def xx(x):\n",
    "    return 1, 2 if x else 1"
   ]
  },
  {
   "cell_type": "code",
   "execution_count": 6,
   "metadata": {
    "deletable": false,
    "nbgrader": {
     "cell_type": "code",
     "checksum": "bb6f837f869b7fdee6feb91a83528f3a",
     "grade": false,
     "grade_id": "cell-cf778e6b6ea6b307",
     "locked": false,
     "schema_version": 3,
     "solution": true,
     "task": false
    }
   },
   "outputs": [],
   "source": [
    "def secant(\n",
    "    func,\n",
    "    interval,\n",
    "    max_iterations=5,\n",
    "    tolerance=1e-7,\n",
    "    report_history=False,\n",
    "):\n",
    "    '''Approximate solution of f(x)=0 on interval [a,b] by the secant method.\n",
    "\n",
    "    Parameters\n",
    "    ----------\n",
    "    func : function\n",
    "        The target function.\n",
    "    interval: list\n",
    "        The initial interval to search\n",
    "    max_iterations : (positive) integer\n",
    "        One of the termination conditions. The amount of iterations allowed.\n",
    "    tolerance: float\n",
    "        One of the termination conditions. Error tolerance.\n",
    "    report_history: bool\n",
    "        Whether to return history.\n",
    "\n",
    "    Returns\n",
    "    -------\n",
    "    result: float\n",
    "        Approximation of the root.\n",
    "    history: dict\n",
    "        Return history of the solving process if report_history is True.\n",
    "    '''\n",
    "    \n",
    "    # ===== 請實做程式 =====\n",
    "    a, b = interval\n",
    "    assert func(a) * func(b) < 0, 'This initial interval does not satisfied the prerequisites!'\n",
    "    \n",
    "    num_iterations = 0\n",
    "    a_next, b_next = a, b\n",
    "    \n",
    "    if report_history:\n",
    "        history = {'estimation': [], 'x_error': [], 'y_error': []}\n",
    "        \n",
    "    while True:\n",
    "        d_x = -1*( func(a_next) * (b_next-a_next) / (func(b_next) - func(a_next)) )\n",
    "        c = a_next + d_x\n",
    "        \n",
    "        x_error = abs(d_x)\n",
    "        y_error = abs(func(c))\n",
    "\n",
    "        if report_history:\n",
    "            history['estimation'].append(c)\n",
    "            history['x_error'].append(x_error)\n",
    "            history['y_error'].append(y_error)\n",
    "\n",
    "        # Satisfy the criterion and stop\n",
    "        if x_error < tolerance or y_error < tolerance:\n",
    "            print('Found solution after', num_iterations,'iterations.')\n",
    "            return (c, history) if report_history else c\n",
    "        \n",
    "        if num_iterations < max_iterations:\n",
    "            num_iterations += 1\n",
    "            \n",
    "            # Find the next interval\n",
    "            value_of_func_c = func(c)\n",
    "            if func(a_next) * value_of_func_c < 0:\n",
    "                a_next = a_next\n",
    "                b_next = c\n",
    "            elif value_of_func_c * func(b_next) < 0:\n",
    "                a_next = c\n",
    "                b_next = b_next    \n",
    "            else:\n",
    "                return (c, history) if report_history else c\n",
    "            \n",
    "        else:\n",
    "            print('Terminate since reached the maximum iterations.')\n",
    "            return (c, history) if report_history else c\n",
    "        \n",
    "    # ===================="
   ]
  },
  {
   "cell_type": "markdown",
   "metadata": {
    "deletable": false,
    "editable": false,
    "nbgrader": {
     "cell_type": "markdown",
     "checksum": "bab70778ca4afecf4be8693af44e5d85",
     "grade": false,
     "grade_id": "cell-33eae8b80e3d7a75",
     "locked": true,
     "schema_version": 3,
     "solution": false,
     "task": false
    }
   },
   "source": [
    "Test your implementation with the assertion below."
   ]
  },
  {
   "cell_type": "code",
   "execution_count": 7,
   "metadata": {},
   "outputs": [
    {
     "name": "stdout",
     "output_type": "stream",
     "text": [
      "Found solution after 8 iterations.\n"
     ]
    },
    {
     "data": {
      "text/plain": [
       "1.6180339631667067"
      ]
     },
     "execution_count": 7,
     "metadata": {},
     "output_type": "execute_result"
    }
   ],
   "source": [
    "secant(lambda x: x**2 - x - 1, [1.0, 2.0], max_iterations=100, tolerance=1e-7, report_history=False)"
   ]
  },
  {
   "cell_type": "code",
   "execution_count": 8,
   "metadata": {
    "deletable": false,
    "editable": false,
    "nbgrader": {
     "cell_type": "code",
     "checksum": "44c6aeb91ecf9d22eb0794dc34a70241",
     "grade": true,
     "grade_id": "cell-4d88293f2527c82d",
     "locked": true,
     "points": 1,
     "schema_version": 3,
     "solution": false,
     "task": false
    }
   },
   "outputs": [
    {
     "name": "stdout",
     "output_type": "stream",
     "text": [
      "Found solution after 8 iterations.\n"
     ]
    }
   ],
   "source": [
    "root = secant(lambda x: x**2 - x - 1, [1.0, 2.0], max_iterations=100, tolerance=1e-7, report_history=False)\n",
    "assert abs(root - ((1 + np.sqrt(5)) / 2)) < 1e-7"
   ]
  },
  {
   "cell_type": "markdown",
   "metadata": {
    "deletable": false,
    "editable": false,
    "nbgrader": {
     "cell_type": "markdown",
     "checksum": "d761ce285ebb8cb71e95c4c614ca642c",
     "grade": false,
     "grade_id": "cell-0cf1ce3b6338af44",
     "locked": true,
     "schema_version": 3,
     "solution": false,
     "task": false
    }
   },
   "source": [
    "---\n",
    "\n",
    "### 3. Answer the following questions under the case $c=1$."
   ]
  },
  {
   "cell_type": "markdown",
   "metadata": {
    "deletable": false,
    "editable": false,
    "nbgrader": {
     "cell_type": "markdown",
     "checksum": "ea604e8fa59605d92a533e16aaaff669",
     "grade": false,
     "grade_id": "cell-52419b8f07ea911f",
     "locked": true,
     "schema_version": 3,
     "solution": false,
     "task": false
    }
   },
   "source": [
    "### Plot the function to find an interval that contains the zero of $f$ if possible."
   ]
  },
  {
   "cell_type": "code",
   "execution_count": 9,
   "metadata": {
    "deletable": false,
    "nbgrader": {
     "cell_type": "code",
     "checksum": "b019e5df18bd92e2455f8dc13d45ded4",
     "grade": false,
     "grade_id": "cell-b0ab2d19e453ca85",
     "locked": false,
     "schema_version": 3,
     "solution": true,
     "task": false
    }
   },
   "outputs": [
    {
     "data": {
      "image/png": "[encoded data removed]",
      "text/plain": [
       "<Figure size 648x288 with 1 Axes>"
      ]
     },
     "metadata": {
      "needs_background": "light"
     },
     "output_type": "display_data"
    }
   ],
   "source": [
    "c = 1\n",
    "f = g(c)\n",
    "\n",
    "# Hint: search_range = np.arange(左端點, 右端點, 點與點之間距), \n",
    "# e.g. search_range = np.arange(0.0, 1.0, 0.01)\n",
    "# ===== 請實做程式 =====\n",
    "search_range = np.arange(-2.0, 2.0, 0.001)\n",
    "# ====================\n",
    "\n",
    "fig, ax = plt.subplots(figsize=(9, 4))\n",
    "ax.plot(search_range, f(search_range))\n",
    "ax.set_title(r'$f(x)=cosh(x)+cos(x)-c$, $c=$%d' % c)\n",
    "ax.grid(True)\n",
    "ax.axhline(y=0)\n",
    "ax.axvline(x=0)\n",
    "plt.show()"
   ]
  },
  {
   "cell_type": "markdown",
   "metadata": {
    "deletable": false,
    "editable": false,
    "nbgrader": {
     "cell_type": "markdown",
     "checksum": "4a4844f5b11e1c6ba02506a60d011c05",
     "grade": false,
     "grade_id": "cell-32e63015bf696217",
     "locked": true,
     "schema_version": 3,
     "solution": false,
     "task": false
    }
   },
   "source": [
    "### According to the figure above, estimate the zero of $f$.\n",
    "\n",
    "#### For example, \n",
    "\n",
    "~~~python\n",
    "root = 3        # 單根\n",
    "root = -2, 1    # 多根\n",
    "root = None     # 無解\n",
    "~~~"
   ]
  },
  {
   "cell_type": "code",
   "execution_count": 10,
   "metadata": {
    "deletable": false,
    "nbgrader": {
     "cell_type": "code",
     "checksum": "1189f6df5e9f29ca65cdfd1a2f025bf7",
     "grade": false,
     "grade_id": "cell-04d5f93c79b8260d",
     "locked": false,
     "schema_version": 3,
     "solution": true,
     "task": false
    }
   },
   "outputs": [],
   "source": [
    "# Hint: root = ?\n",
    "# ===== 請實做程式 =====\n",
    "root = None\n",
    "# ===================="
   ]
  },
  {
   "cell_type": "code",
   "execution_count": 11,
   "metadata": {
    "deletable": false,
    "editable": false,
    "nbgrader": {
     "cell_type": "code",
     "checksum": "156cf4709b80861109c5c354302935e7",
     "grade": true,
     "grade_id": "cell-d872c7c57f11c968",
     "locked": true,
     "points": 1,
     "schema_version": 3,
     "solution": false,
     "task": false
    }
   },
   "outputs": [
    {
     "name": "stdout",
     "output_type": "stream",
     "text": [
      "My estimation of root: None\n"
     ]
    }
   ],
   "source": [
    "print('My estimation of root:', root)"
   ]
  },
  {
   "cell_type": "markdown",
   "metadata": {
    "deletable": false,
    "editable": false,
    "nbgrader": {
     "cell_type": "markdown",
     "checksum": "d0e6b2242c92461806e0a4b0041a0007",
     "grade": false,
     "grade_id": "cell-c64cd5e6250ee47a",
     "locked": true,
     "schema_version": 3,
     "solution": false,
     "task": false
    }
   },
   "source": [
    "### Try to find the zero with a tolerance of $10^{-10}$.I f it works, plot the error and estimation of each step. Otherwise, state the reason why the method failed on this case."
   ]
  },
  {
   "cell_type": "code",
   "execution_count": 12,
   "metadata": {},
   "outputs": [
    {
     "ename": "AssertionError",
     "evalue": "This initial interval does not satisfied the prerequisites!",
     "output_type": "error",
     "traceback": [
      "\u001b[1;31m---------------------------------------------------------------------------\u001b[0m",
      "\u001b[1;31mAssertionError\u001b[0m                            Traceback (most recent call last)",
      "\u001b[1;32m<ipython-input-12-745075b318fd>\u001b[0m in \u001b[0;36m<module>\u001b[1;34m\u001b[0m\n\u001b[1;32m----> 1\u001b[1;33m \u001b[0mroot\u001b[0m \u001b[1;33m=\u001b[0m \u001b[0msecant\u001b[0m\u001b[1;33m(\u001b[0m\u001b[0mg\u001b[0m\u001b[1;33m(\u001b[0m\u001b[0mc\u001b[0m\u001b[1;33m)\u001b[0m\u001b[1;33m,\u001b[0m \u001b[1;33m[\u001b[0m\u001b[1;33m-\u001b[0m\u001b[1;36m1.0\u001b[0m\u001b[1;33m,\u001b[0m \u001b[1;36m1.0\u001b[0m\u001b[1;33m]\u001b[0m\u001b[1;33m,\u001b[0m \u001b[0mmax_iterations\u001b[0m\u001b[1;33m=\u001b[0m\u001b[1;36m100\u001b[0m\u001b[1;33m,\u001b[0m \u001b[0mtolerance\u001b[0m\u001b[1;33m=\u001b[0m\u001b[1;36m1e-10\u001b[0m\u001b[1;33m,\u001b[0m \u001b[0mreport_history\u001b[0m\u001b[1;33m=\u001b[0m\u001b[1;32mFalse\u001b[0m\u001b[1;33m)\u001b[0m\u001b[1;33m\u001b[0m\u001b[1;33m\u001b[0m\u001b[0m\n\u001b[0m",
      "\u001b[1;32m<ipython-input-6-434edf429c5b>\u001b[0m in \u001b[0;36msecant\u001b[1;34m(func, interval, max_iterations, tolerance, report_history)\u001b[0m\n\u001b[0;32m     31\u001b[0m     \u001b[1;31m# ===== 請實做程式 =====\u001b[0m\u001b[1;33m\u001b[0m\u001b[1;33m\u001b[0m\u001b[1;33m\u001b[0m\u001b[0m\n\u001b[0;32m     32\u001b[0m     \u001b[0ma\u001b[0m\u001b[1;33m,\u001b[0m \u001b[0mb\u001b[0m \u001b[1;33m=\u001b[0m \u001b[0minterval\u001b[0m\u001b[1;33m\u001b[0m\u001b[1;33m\u001b[0m\u001b[0m\n\u001b[1;32m---> 33\u001b[1;33m     \u001b[1;32massert\u001b[0m \u001b[0mfunc\u001b[0m\u001b[1;33m(\u001b[0m\u001b[0ma\u001b[0m\u001b[1;33m)\u001b[0m \u001b[1;33m*\u001b[0m \u001b[0mfunc\u001b[0m\u001b[1;33m(\u001b[0m\u001b[0mb\u001b[0m\u001b[1;33m)\u001b[0m \u001b[1;33m<\u001b[0m \u001b[1;36m0\u001b[0m\u001b[1;33m,\u001b[0m \u001b[1;34m'This initial interval does not satisfied the prerequisites!'\u001b[0m\u001b[1;33m\u001b[0m\u001b[1;33m\u001b[0m\u001b[0m\n\u001b[0m\u001b[0;32m     34\u001b[0m \u001b[1;33m\u001b[0m\u001b[0m\n\u001b[0;32m     35\u001b[0m     \u001b[0mnum_iterations\u001b[0m \u001b[1;33m=\u001b[0m \u001b[1;36m0\u001b[0m\u001b[1;33m\u001b[0m\u001b[1;33m\u001b[0m\u001b[0m\n",
      "\u001b[1;31mAssertionError\u001b[0m: This initial interval does not satisfied the prerequisites!"
     ]
    }
   ],
   "source": [
    "root = secant(g(c), [-1.0, 1.0], max_iterations=100, tolerance=1e-10, report_history=False)"
   ]
  },
  {
   "cell_type": "markdown",
   "metadata": {
    "deletable": false,
    "nbgrader": {
     "cell_type": "markdown",
     "checksum": "844f52db5587ec7dfce94d08544be0d7",
     "grade": true,
     "grade_id": "cell-898e5d4c01339747",
     "locked": false,
     "points": 1,
     "schema_version": 3,
     "solution": true,
     "task": false
    }
   },
   "source": [
    "the estimation failed since the function $cosh(x) + cos(x) - 1$ is always positive. It is not possible to find an interval [a, b]\n",
    "\n",
    "s.t. f(a) * f(b) < 0"
   ]
  },
  {
   "cell_type": "markdown",
   "metadata": {
    "deletable": false,
    "editable": false,
    "nbgrader": {
     "cell_type": "markdown",
     "checksum": "0e68457b1886d867c3f7a77dde989bfd",
     "grade": false,
     "grade_id": "cell-abb147e61fc8c850",
     "locked": true,
     "schema_version": 3,
     "solution": false,
     "task": false
    }
   },
   "source": [
    "---\n",
    "\n",
    "### 4. Answer the following questions under the case $c=2$.\n",
    "\n",
    "### Plot the function to find an interval that contains the zero of $f$ if possible."
   ]
  },
  {
   "cell_type": "code",
   "execution_count": 13,
   "metadata": {
    "deletable": false,
    "nbgrader": {
     "cell_type": "code",
     "checksum": "1380f0bc6fa3762c0730ce4abcb2a281",
     "grade": false,
     "grade_id": "cell-b2a7d8e20680371e",
     "locked": false,
     "schema_version": 3,
     "solution": true,
     "task": false
    }
   },
   "outputs": [
    {
     "data": {
      "image/png": "[encoded data removed]",
      "text/plain": [
       "<Figure size 648x288 with 1 Axes>"
      ]
     },
     "metadata": {
      "needs_background": "light"
     },
     "output_type": "display_data"
    }
   ],
   "source": [
    "c = 2\n",
    "f = g(c)\n",
    "\n",
    "# Hint: search_range = np.arange(左端點, 右端點, 點與點之間距), \n",
    "# e.g. search_range = np.arange(0.0, 1.0, 0.01)\n",
    "# ===== 請實做程式 =====\n",
    "search_range = np.arange(-0.1, 0.1, 0.0001)\n",
    "# ====================\n",
    "\n",
    "fig, ax = plt.subplots(figsize=(9, 4))\n",
    "ax.plot(search_range, f(search_range))\n",
    "ax.set_title(r'$f(x)=cosh(x)+cos(x)-c$, $c=$%d' % c)\n",
    "ax.grid(True)\n",
    "ax.axhline(y=0)\n",
    "ax.axvline(x=0)\n",
    "plt.show()"
   ]
  },
  {
   "cell_type": "markdown",
   "metadata": {
    "deletable": false,
    "editable": false,
    "nbgrader": {
     "cell_type": "markdown",
     "checksum": "ffa7524886ac8157cc9560ceeca258a5",
     "grade": false,
     "grade_id": "cell-a67a9c02317b5c69",
     "locked": true,
     "schema_version": 3,
     "solution": false,
     "task": false
    }
   },
   "source": [
    "### According to the figure above, estimate the zero of $f$.\n",
    "\n",
    "#### For example, \n",
    "\n",
    "~~~python\n",
    "root = 3        # 單根\n",
    "root = -2, 1    # 多根\n",
    "root = None     # 無解\n",
    "~~~"
   ]
  },
  {
   "cell_type": "code",
   "execution_count": 14,
   "metadata": {
    "deletable": false,
    "nbgrader": {
     "cell_type": "code",
     "checksum": "5f3cd6e2a725c63e876461b8b1506ee0",
     "grade": false,
     "grade_id": "cell-364b7f3d6ee6a30e",
     "locked": false,
     "schema_version": 3,
     "solution": true,
     "task": false
    }
   },
   "outputs": [],
   "source": [
    "# Hint: root = ?\n",
    "# ===== 請實做程式 =====\n",
    "root = 0\n",
    "# ===================="
   ]
  },
  {
   "cell_type": "code",
   "execution_count": 15,
   "metadata": {
    "deletable": false,
    "editable": false,
    "nbgrader": {
     "cell_type": "code",
     "checksum": "6a39b4238521448890a4b10f3a4a04d6",
     "grade": true,
     "grade_id": "cell-20fddbe6fa4c437b",
     "locked": true,
     "points": 1,
     "schema_version": 3,
     "solution": false,
     "task": false
    }
   },
   "outputs": [
    {
     "name": "stdout",
     "output_type": "stream",
     "text": [
      "My estimation of root: 0\n"
     ]
    }
   ],
   "source": [
    "print('My estimation of root:', root)\n"
   ]
  },
  {
   "cell_type": "markdown",
   "metadata": {
    "deletable": false,
    "editable": false,
    "nbgrader": {
     "cell_type": "markdown",
     "checksum": "35df5b1d3347d60cf226d160f85f5783",
     "grade": false,
     "grade_id": "cell-2f855c54d506d35a",
     "locked": true,
     "schema_version": 3,
     "solution": false,
     "task": false
    }
   },
   "source": [
    "### Try to find the zero with a tolerance of $10^{-10}$. If it works, plot the error and estimation of each step.Otherwise, state the reason why the method failed on this case."
   ]
  },
  {
   "cell_type": "code",
   "execution_count": 16,
   "metadata": {},
   "outputs": [
    {
     "ename": "AssertionError",
     "evalue": "This initial interval does not satisfied the prerequisites!",
     "output_type": "error",
     "traceback": [
      "\u001b[1;31m---------------------------------------------------------------------------\u001b[0m",
      "\u001b[1;31mAssertionError\u001b[0m                            Traceback (most recent call last)",
      "\u001b[1;32m<ipython-input-16-745075b318fd>\u001b[0m in \u001b[0;36m<module>\u001b[1;34m\u001b[0m\n\u001b[1;32m----> 1\u001b[1;33m \u001b[0mroot\u001b[0m \u001b[1;33m=\u001b[0m \u001b[0msecant\u001b[0m\u001b[1;33m(\u001b[0m\u001b[0mg\u001b[0m\u001b[1;33m(\u001b[0m\u001b[0mc\u001b[0m\u001b[1;33m)\u001b[0m\u001b[1;33m,\u001b[0m \u001b[1;33m[\u001b[0m\u001b[1;33m-\u001b[0m\u001b[1;36m1.0\u001b[0m\u001b[1;33m,\u001b[0m \u001b[1;36m1.0\u001b[0m\u001b[1;33m]\u001b[0m\u001b[1;33m,\u001b[0m \u001b[0mmax_iterations\u001b[0m\u001b[1;33m=\u001b[0m\u001b[1;36m100\u001b[0m\u001b[1;33m,\u001b[0m \u001b[0mtolerance\u001b[0m\u001b[1;33m=\u001b[0m\u001b[1;36m1e-10\u001b[0m\u001b[1;33m,\u001b[0m \u001b[0mreport_history\u001b[0m\u001b[1;33m=\u001b[0m\u001b[1;32mFalse\u001b[0m\u001b[1;33m)\u001b[0m\u001b[1;33m\u001b[0m\u001b[1;33m\u001b[0m\u001b[0m\n\u001b[0m",
      "\u001b[1;32m<ipython-input-6-434edf429c5b>\u001b[0m in \u001b[0;36msecant\u001b[1;34m(func, interval, max_iterations, tolerance, report_history)\u001b[0m\n\u001b[0;32m     31\u001b[0m     \u001b[1;31m# ===== 請實做程式 =====\u001b[0m\u001b[1;33m\u001b[0m\u001b[1;33m\u001b[0m\u001b[1;33m\u001b[0m\u001b[0m\n\u001b[0;32m     32\u001b[0m     \u001b[0ma\u001b[0m\u001b[1;33m,\u001b[0m \u001b[0mb\u001b[0m \u001b[1;33m=\u001b[0m \u001b[0minterval\u001b[0m\u001b[1;33m\u001b[0m\u001b[1;33m\u001b[0m\u001b[0m\n\u001b[1;32m---> 33\u001b[1;33m     \u001b[1;32massert\u001b[0m \u001b[0mfunc\u001b[0m\u001b[1;33m(\u001b[0m\u001b[0ma\u001b[0m\u001b[1;33m)\u001b[0m \u001b[1;33m*\u001b[0m \u001b[0mfunc\u001b[0m\u001b[1;33m(\u001b[0m\u001b[0mb\u001b[0m\u001b[1;33m)\u001b[0m \u001b[1;33m<\u001b[0m \u001b[1;36m0\u001b[0m\u001b[1;33m,\u001b[0m \u001b[1;34m'This initial interval does not satisfied the prerequisites!'\u001b[0m\u001b[1;33m\u001b[0m\u001b[1;33m\u001b[0m\u001b[0m\n\u001b[0m\u001b[0;32m     34\u001b[0m \u001b[1;33m\u001b[0m\u001b[0m\n\u001b[0;32m     35\u001b[0m     \u001b[0mnum_iterations\u001b[0m \u001b[1;33m=\u001b[0m \u001b[1;36m0\u001b[0m\u001b[1;33m\u001b[0m\u001b[1;33m\u001b[0m\u001b[0m\n",
      "\u001b[1;31mAssertionError\u001b[0m: This initial interval does not satisfied the prerequisites!"
     ]
    }
   ],
   "source": [
    "root = secant(g(c), [-1.0, 1.0], max_iterations=100, tolerance=1e-10, report_history=False)"
   ]
  },
  {
   "cell_type": "markdown",
   "metadata": {
    "deletable": false,
    "nbgrader": {
     "cell_type": "markdown",
     "checksum": "8ce93fca11001d7e1fffd0a7d4549ff4",
     "grade": true,
     "grade_id": "cell-6721bfd92fe83ae0",
     "locked": false,
     "points": 1,
     "schema_version": 3,
     "solution": true,
     "task": false
    }
   },
   "source": [
    "the estimation failed since the function $cosh(x) + cos(x) - 2$ is always greater than or equal to 0. It is not possible to find an interval [a, b]\n",
    "\n",
    "s.t. f(a) * f(b) < 0"
   ]
  },
  {
   "cell_type": "markdown",
   "metadata": {
    "deletable": false,
    "editable": false,
    "nbgrader": {
     "cell_type": "markdown",
     "checksum": "51585345757c00779d63f023b66057c5",
     "grade": false,
     "grade_id": "cell-e7d8891c83a75c3e",
     "locked": true,
     "schema_version": 3,
     "solution": false,
     "task": false
    }
   },
   "source": [
    "---\n",
    "\n",
    "### 5. Answer the following questions under the case $c=3$.\n",
    "\n",
    "### Plot the function to find an interval that contains the zeros of $f$ if possible."
   ]
  },
  {
   "cell_type": "code",
   "execution_count": 17,
   "metadata": {
    "deletable": false,
    "nbgrader": {
     "cell_type": "code",
     "checksum": "6422bc62953ce581a17d858135bc19f3",
     "grade": false,
     "grade_id": "cell-b9e53f953d617465",
     "locked": false,
     "schema_version": 3,
     "solution": true,
     "task": false
    }
   },
   "outputs": [
    {
     "data": {
      "image/png": "[encoded data removed]",
      "text/plain": [
       "<Figure size 648x288 with 1 Axes>"
      ]
     },
     "metadata": {
      "needs_background": "light"
     },
     "output_type": "display_data"
    }
   ],
   "source": [
    "c = 3\n",
    "f = g(c)\n",
    "\n",
    "# Hint: search_range = np.arange(左端點, 右端點, 點與點之間距), \n",
    "# e.g. search_range = np.arange(0.0, 1.0, 0.01)\n",
    "# ===== 請實做程式 =====\n",
    "search_range = np.arange(-2.5, 2.5, 0.01)\n",
    "# ====================\n",
    "\n",
    "fig, ax = plt.subplots(figsize=(9, 4))\n",
    "ax.plot(search_range, f(search_range))\n",
    "ax.set_title(r'$f(x)=cosh(x)+cos(x)-c$, $c=$%d' % c)\n",
    "ax.grid(True)\n",
    "ax.axhline(y=0)\n",
    "ax.axvline(x=0)\n",
    "plt.show()"
   ]
  },
  {
   "cell_type": "markdown",
   "metadata": {
    "deletable": false,
    "editable": false,
    "nbgrader": {
     "cell_type": "markdown",
     "checksum": "9c3c69ad5918817928014101aa3440bf",
     "grade": false,
     "grade_id": "cell-d646a84d67b89187",
     "locked": true,
     "schema_version": 3,
     "solution": false,
     "task": false
    }
   },
   "source": [
    "### According to the figure above, estimate the zero of $f$.\n",
    "\n",
    "#### For example, \n",
    "\n",
    "~~~python\n",
    "root = 3        # 單根\n",
    "root = -2, 1    # 多根\n",
    "root = None     # 無解\n",
    "~~~"
   ]
  },
  {
   "cell_type": "code",
   "execution_count": 18,
   "metadata": {
    "deletable": false,
    "nbgrader": {
     "cell_type": "code",
     "checksum": "80101249675898650b291e2a2fa43434",
     "grade": false,
     "grade_id": "cell-1756e3886dd01052",
     "locked": false,
     "schema_version": 3,
     "solution": true,
     "task": false
    }
   },
   "outputs": [],
   "source": [
    "# Hint: root = ?\n",
    "# ===== 請實做程式 =====\n",
    "root = -1.8, 1.8\n",
    "# ===================="
   ]
  },
  {
   "cell_type": "code",
   "execution_count": 19,
   "metadata": {
    "deletable": false,
    "editable": false,
    "nbgrader": {
     "cell_type": "code",
     "checksum": "c256f660f349a6ab14bcc78be117baee",
     "grade": true,
     "grade_id": "cell-06ec0b20844075c7",
     "locked": true,
     "points": 1,
     "schema_version": 3,
     "solution": false,
     "task": false
    }
   },
   "outputs": [
    {
     "name": "stdout",
     "output_type": "stream",
     "text": [
      "My estimation of root: (-1.8, 1.8)\n"
     ]
    }
   ],
   "source": [
    "print('My estimation of root:', root)\n"
   ]
  },
  {
   "cell_type": "markdown",
   "metadata": {
    "deletable": false,
    "editable": false,
    "nbgrader": {
     "cell_type": "markdown",
     "checksum": "fb053dc4e8e72bec77038ea595f71580",
     "grade": false,
     "grade_id": "cell-f1263f2a2fa736d0",
     "locked": true,
     "schema_version": 3,
     "solution": false,
     "task": false
    }
   },
   "source": [
    "### Try to find the zero with a tolerance of $10^{-10}$. If it works, plot the error and estimation of each step. Otherwise, state the reason why the method failed on this case."
   ]
  },
  {
   "cell_type": "code",
   "execution_count": 20,
   "metadata": {},
   "outputs": [
    {
     "name": "stdout",
     "output_type": "stream",
     "text": [
      "Found solution after 11 iterations.\n",
      "Found solution after 11 iterations.\n",
      "The roots are -1.8579208291378282 and 1.8579208291378282.\n"
     ]
    }
   ],
   "source": [
    "root1 = secant(g(c), [-2, 0], max_iterations=100, tolerance=1e-10, report_history=True)\n",
    "root2 = secant(g(c), [0, 2], max_iterations=100, tolerance=1e-10, report_history=True)\n",
    "print(\"The roots are {} and {}.\".format(root1[0], root2[0]))"
   ]
  },
  {
   "cell_type": "code",
   "execution_count": 21,
   "metadata": {
    "deletable": false,
    "nbgrader": {
     "cell_type": "markdown",
     "checksum": "21fd9715ef2170fb2ebf935ad6e73e9b",
     "grade": true,
     "grade_id": "cell-676098e6b38fa075",
     "locked": false,
     "points": 4,
     "schema_version": 3,
     "solution": true,
     "task": false
    }
   },
   "outputs": [
    {
     "data": {
      "image/png": "[encoded data removed]",
      "text/plain": [
       "<Figure size 1152x648 with 2 Axes>"
      ]
     },
     "metadata": {
      "needs_background": "light"
     },
     "output_type": "display_data"
    }
   ],
   "source": [
    "fig, axes = plt.subplots(2, 1, figsize=(16, 9))\n",
    "ax1, ax2 = axes\n",
    "\n",
    "ax1.plot(range(len(root1[1]['x_error'])), root1[1]['x_error'], '#F08787')\n",
    "ax1.plot(range(len(root1[1]['y_error'])), root1[1]['y_error'], 'r')\n",
    "ax1.plot(range(len(root1[1]['estimation'])), root1[1]['estimation'], 'g')\n",
    "ax1.set_title(\"The error(red) and estimation(green) of each step of root1\")\n",
    "ax1.annotate('x error', (0.3, 0.5), c='#F08787')\n",
    "ax1.annotate('y error', (0.3, 0.15), c='r')\n",
    "ax1.annotate('estimation x_n', (2, -1.5), c='g')\n",
    "ax1.grid(True)\n",
    "ax1.axhline(y=0, color='k')\n",
    "ax1.axvline(x=0, color='k')\n",
    "\n",
    "ax2.plot(range(len(root2[1]['x_error'])), root2[1]['x_error'], '#F08787')\n",
    "ax2.plot(range(len(root2[1]['y_error'])), root2[1]['y_error'], 'r')\n",
    "ax2.plot(range(len(root2[1]['estimation'])), root2[1]['estimation'], 'g')\n",
    "ax2.set_title(\"The error(red) and estimation(green) of each step of root2\")\n",
    "ax2.annotate('x error', (0.3, 0.5), c='#F08787')\n",
    "ax2.annotate('y error', (0.3, 0.15), c='r')\n",
    "ax2.annotate('estimation x_n', (2, 1.5), c='g')\n",
    "ax2.grid(True)\n",
    "ax2.axhline(y=0, color='k')\n",
    "ax2.axvline(x=0, color='k')\n",
    "\n",
    "plt.show()"
   ]
  },
  {
   "cell_type": "markdown",
   "metadata": {
    "deletable": false,
    "editable": false,
    "nbgrader": {
     "cell_type": "markdown",
     "checksum": "8233a48cc983855947fb72ef5fae3f65",
     "grade": false,
     "grade_id": "cell-318c6129a6ea59dc",
     "locked": true,
     "schema_version": 3,
     "solution": false,
     "task": false
    }
   },
   "source": [
    "---\n",
    "\n",
    "## Discussion\n",
    "\n",
    "### For all cases above(c=1,2,3), do the results(e.g. error behaviors, estimations, etc) agree with the theoretical analysis?"
   ]
  },
  {
   "cell_type": "code",
   "execution_count": null,
   "metadata": {
    "deletable": false,
    "nbgrader": {
     "cell_type": "markdown",
     "checksum": "d6c5e05247980ab6021686b53463e762",
     "grade": true,
     "grade_id": "cell-492b11d873a7f6c2",
     "locked": false,
     "points": 3,
     "schema_version": 3,
     "solution": true,
     "task": false
    }
   },
   "outputs": [],
   "source": [
    "c=1 時函數恆正，無根\n",
    "c=2 時函數只有在原點時值為0，其他地方都大於0，無法使用此方法\n",
    "c=3 的情況有兩個根，所以各自給相對應的區間 [-2, 0], [0, 2]"
   ]
  }
 ],
 "metadata": {
  "kernelspec": {
   "display_name": "Python 3",
   "language": "python",
   "name": "python3"
  },
  "language_info": {
   "codemirror_mode": {
    "name": "ipython",
    "version": 3
   },
   "file_extension": ".py",
   "mimetype": "text/x-python",
   "name": "python",
   "nbconvert_exporter": "python",
   "pygments_lexer": "ipython3",
   "version": "3.7.3"
  }
 },
 "nbformat": 4,
 "nbformat_minor": 2
}
